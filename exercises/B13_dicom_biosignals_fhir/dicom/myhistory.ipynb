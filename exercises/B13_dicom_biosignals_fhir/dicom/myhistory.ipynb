{
 "cells": [
  {
   "cell_type": "code",
   "execution_count": 1,
   "id": "69686ea8",
   "metadata": {},
   "outputs": [],
   "source": [
    "import os"
   ]
  },
  {
   "cell_type": "code",
   "execution_count": 2,
   "id": "b4887c18",
   "metadata": {},
   "outputs": [],
   "source": [
    "from os import listdir\n",
    "from pydicom import dcmread\n",
    "\n",
    "dicom_list = []\n",
    "for file in listdir('example-dicom-structural/dicoms/'):\n",
    "    with open(file) as f:\n",
    "        dicom_list.append(dcmread(f))\n",
    "        "
   ]
  },
  {
   "cell_type": "code",
   "execution_count": 3,
   "id": "881b376c",
   "metadata": {},
   "outputs": [],
   "source": [
    "from os import listdir\n",
    "from pydicom import dcmread\n",
    "\n",
    "dicom_list = []\n",
    "path = 'example-dicom-structural/dicoms/'\n",
    "for filename in listdir(path):\n",
    "    with open(f\"{path}{filename}) as f:\n",
    "        dicom_list.append(dcmread(f))"
   ]
  },
  {
   "cell_type": "code",
   "execution_count": 4,
   "id": "458cf943",
   "metadata": {},
   "outputs": [],
   "source": [
    "from os import listdir\n",
    "from pydicom import dcmread\n",
    "\n",
    "dicom_list = []\n",
    "path = 'example-dicom-structural/dicoms/'\n",
    "for filename in listdir(path):\n",
    "    with open(f\"{path}{filename}\") as f:\n",
    "        dicom_list.append(dcmread(f))\n",
    "        "
   ]
  },
  {
   "cell_type": "code",
   "execution_count": 5,
   "id": "39cab7ae",
   "metadata": {},
   "outputs": [],
   "source": [
    "from os import listdir\n",
    "from pydicom import dcmread\n",
    "\n",
    "dicom_list = []\n",
    "path = 'example-dicom-structural/dicoms/'\n",
    "for filename in listdir(path):\n",
    "    print(filename)\n",
    "    with open(f\"{path}{filename}\") as f:\n",
    "        dicom_list.append(dcmread(f))\n",
    "        "
   ]
  },
  {
   "cell_type": "code",
   "execution_count": 6,
   "id": "8f86e003",
   "metadata": {},
   "outputs": [],
   "source": [
    "from os import listdir\n",
    "from pydicom import dcmread\n",
    "\n",
    "dicom_list = []\n",
    "path = 'example-dicom-structural/dicoms/'\n",
    "for filename in listdir(path):\n",
    "    print(filename)\n",
    "    with open(f\"{path}{filename}\") as f:\n",
    "        dicom_list.append(dcmread(f, force=True))\n",
    "        "
   ]
  },
  {
   "cell_type": "code",
   "execution_count": 7,
   "id": "925e6708",
   "metadata": {},
   "outputs": [],
   "source": [
    "from os import listdir\n",
    "from pydicom import dcmread\n",
    "\n",
    "dicom_list = []\n",
    "path = 'example-dicom-structural/dicoms/'\n",
    "for filename in listdir(path):\n",
    "    print(filename)\n",
    "    with open(f\"{path}{filename}\") as f:\n",
    "        dicom_list.append(dcmread(f))\n",
    "        "
   ]
  },
  {
   "cell_type": "code",
   "execution_count": 8,
   "id": "10a15c35",
   "metadata": {},
   "outputs": [],
   "source": [
    "from os import listdir\n",
    "from pydicom import dcmread\n",
    "\n",
    "dicom_list = []\n",
    "path = 'example-dicom-structural/dicoms/'\n",
    "for filename in listdir(path):\n",
    "    print(filename)\n",
    "    with dcmread(f\"{path}{filename}\") as f:\n",
    "        dicom_list.append(f)\n",
    "        "
   ]
  },
  {
   "cell_type": "code",
   "execution_count": 9,
   "id": "2cb7dd36",
   "metadata": {},
   "outputs": [],
   "source": [
    "dicom_list"
   ]
  },
  {
   "cell_type": "code",
   "execution_count": 10,
   "id": "f27e1a01",
   "metadata": {},
   "outputs": [],
   "source": [
    "from os import listdir\n",
    "from pydicom import dcmread, FileSet\n",
    "\n",
    "fs = FileSet\n",
    "path = 'example-dicom-structural/dicoms/'\n",
    "for filename in listdir(path):\n",
    "    print(filename)\n",
    "    with dcmread(f\"{path}{filename}\") as f:\n",
    "        fs.add(f)\n",
    "        "
   ]
  },
  {
   "cell_type": "code",
   "execution_count": 11,
   "id": "3c188f26",
   "metadata": {},
   "outputs": [],
   "source": [
    "from os import listdir\n",
    "from pydicom import dcmread\n",
    "from pydicom.fileset import FileSet\n",
    "\n",
    "fs = FileSet\n",
    "path = 'example-dicom-structural/dicoms/'\n",
    "for filename in listdir(path):\n",
    "    print(filename)\n",
    "    with dcmread(f\"{path}{filename}\") as f:\n",
    "        fs.add(f)\n",
    "        "
   ]
  },
  {
   "cell_type": "code",
   "execution_count": 12,
   "id": "857d44d8",
   "metadata": {},
   "outputs": [],
   "source": [
    "from os import listdir\n",
    "from pydicom import dcmread\n",
    "from pydicom.fileset import FileSet\n",
    "\n",
    "fs = FileSet\n",
    "path = 'example-dicom-structural/dicoms/'\n",
    "for filename in listdir(path):\n",
    "    print(filename)\n",
    "    fs.add(dcmread(f\"{path}{filename}\"))\n",
    "    \n",
    "        "
   ]
  },
  {
   "cell_type": "code",
   "execution_count": 13,
   "id": "343a1210",
   "metadata": {},
   "outputs": [],
   "source": [
    "from os import listdir\n",
    "from pydicom import dcmread\n",
    "from pydicom.fileset import FileSet\n",
    "\n",
    "fs = FileSet\n",
    "path = 'example-dicom-structural/dicoms/'\n",
    "for filename in listdir(path):\n",
    "    print(filename)\n",
    "    fs.add(f\"{path}{filename}\")\n",
    "    "
   ]
  },
  {
   "cell_type": "code",
   "execution_count": 14,
   "id": "b09fc2a7",
   "metadata": {},
   "outputs": [],
   "source": [
    "from os import listdir\n",
    "from pydicom import dcmread\n",
    "from pydicom.fileset import FileSet\n",
    "\n",
    "fs = FileSet\n",
    "path = 'example-dicom-structural/dicoms/'\n",
    "for filename in listdir(path):\n",
    "    print(filename)\n",
    "    fs.add(dcmread(f\"{path}{filename}\"))\n",
    "    "
   ]
  },
  {
   "cell_type": "code",
   "execution_count": 15,
   "id": "96e54030",
   "metadata": {},
   "outputs": [],
   "source": [
    "from os import listdir\n",
    "from pydicom import dcmread\n",
    "from pydicom.fileset import FileSet\n",
    "\n",
    "fs = FileSet\n",
    "path = 'example-dicom-structural/dicoms/'\n",
    "for filename in listdir(path):\n",
    "     file = f\"{path}{filename}\"\n",
    "     print(file)\n",
    "    fs.add(dcmread(file))"
   ]
  },
  {
   "cell_type": "code",
   "execution_count": 16,
   "id": "741b2909",
   "metadata": {},
   "outputs": [],
   "source": [
    "from os import listdir\n",
    "from pydicom import dcmread\n",
    "from pydicom.fileset import FileSet\n",
    "\n",
    "fs = FileSet\n",
    "path = 'example-dicom-structural/dicoms/'\n",
    "for filename in listdir(path):\n",
    "     file = f\"{path}{filename}\"\n",
    "     print(file)\n",
    "     fs.add(dcmread(file))\n",
    "     "
   ]
  },
  {
   "cell_type": "code",
   "execution_count": 17,
   "id": "ad1e1edc",
   "metadata": {},
   "outputs": [],
   "source": [
    "from os import listdir\n",
    "from pydicom import dcmread\n",
    "from pydicom.fileset import FileSet\n",
    "\n",
    "fs = FileSet\n",
    "path = 'example-dicom-structural/dicoms/'\n",
    "for filename in listdir(path):\n",
    "     file = f\"{path}{filename}\"\n",
    "     print(file)\n",
    "     dicom = dcmread(file)\n",
    "     fs.add(dicom)\n",
    "     "
   ]
  },
  {
   "cell_type": "code",
   "execution_count": 18,
   "id": "6190b3bf",
   "metadata": {},
   "outputs": [],
   "source": [
    "from os import listdir\n",
    "from pydicom import dcmread\n",
    "from pydicom.fileset import FileSet\n",
    "\n",
    "fs = FileSet\n",
    "path = 'example-dicom-structural/dicoms/'\n",
    "for filename in listdir(path):\n",
    "     file = f\"{path}{filename}\"\n",
    "     print(file)\n",
    "     dicom = dcmread(file)\n",
    "     fs.add()\n",
    "     "
   ]
  },
  {
   "cell_type": "code",
   "execution_count": 19,
   "id": "d61d3431",
   "metadata": {},
   "outputs": [],
   "source": [
    "from os import listdir\n",
    "from pydicom import dcmread\n",
    "from pydicom.fileset import FileSet\n",
    "\n",
    "fs = FileSet\n",
    "path = 'example-dicom-structural/dicoms/'\n",
    "for filename in listdir(path):\n",
    "     file = f\"{path}{filename}\"\n",
    "     print(file)\n",
    "     dicom = dcmread(file)\n",
    "     fs.add(dicom, file)\n",
    "     "
   ]
  },
  {
   "cell_type": "code",
   "execution_count": 20,
   "id": "dc7b1266",
   "metadata": {},
   "outputs": [],
   "source": [
    "from os import listdir\n",
    "from pydicom import dcmread\n",
    "\n",
    "dicom_list = []\n",
    "path = 'example-dicom-structural/dicoms/'\n",
    "for filename in listdir(path):\n",
    "    print(filename)\n",
    "    with dcmread(f\"{path}{filename}\") as f:\n",
    "        dicom_list.append(f)\n",
    "        "
   ]
  },
  {
   "cell_type": "code",
   "execution_count": 21,
   "id": "33432751",
   "metadata": {},
   "outputs": [],
   "source": [
    "dir(dicom_list[0])"
   ]
  },
  {
   "cell_type": "code",
   "execution_count": 22,
   "id": "db631433",
   "metadata": {},
   "outputs": [],
   "source": [
    "dicom_list[0].PatientID"
   ]
  },
  {
   "cell_type": "code",
   "execution_count": 23,
   "id": "33e0ab6c",
   "metadata": {},
   "outputs": [],
   "source": [
    "dicom_list[0].PatientName"
   ]
  },
  {
   "cell_type": "code",
   "execution_count": 24,
   "id": "6a7c3857",
   "metadata": {},
   "outputs": [],
   "source": [
    "%notebook -e myhistory.ipynb"
   ]
  }
 ],
 "metadata": {},
 "nbformat": 4,
 "nbformat_minor": 5
}
