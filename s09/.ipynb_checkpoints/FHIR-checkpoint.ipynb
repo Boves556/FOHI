{
 "cells": [
  {
   "cell_type": "code",
   "execution_count": 52,
   "id": "571fc4ab-fa20-4bc0-a3ef-095937100e57",
   "metadata": {},
   "outputs": [],
   "source": [
    "import json\n",
    "import os\n",
    "import sys\n",
    "\n",
    "import pydantic\n",
    "from pydantic.v1 import BaseModel, Extra, Field\n",
    "\n",
    "import fhir.resources\n",
    "from fhir.resources import construct_fhir_element\n",
    "from fhir.resources import FHIRAbstractModel\n",
    "from fhir.resources.observation import Observation\n",
    "from fhir.resources.observation import ObservationComponent\n",
    "from fhir.resources.quantity import Quantity\n",
    "from fhir.resources.patient import Patient\n",
    "from fhir.resources.reference import Reference\n",
    "from fhir.resources.coding import Coding\n",
    "from fhir.resources.codeableconcept import CodeableConcept\n",
    "\n",
    "FHIRAbstractModel.Config.extra = Extra.allow"
   ]
  },
  {
   "cell_type": "code",
   "execution_count": 59,
   "id": "e4655d04-4f99-4301-9a05-073f60f3e333",
   "metadata": {},
   "outputs": [],
   "source": [
    "code = {\n",
    "    \"coding\": [\n",
    "      {\n",
    "        \"system\": \"http://loinc.org\",\n",
    "        \"code\": \"85354-9\",\n",
    "        \"display\": \"Blood pressure panel with all children optional\"\n",
    "      }\n",
    "    ],\n",
    "    \"text\": \"Blood pressure systolic & diastolic\"\n",
    "  }\n",
    "\n",
    "category =  {\n",
    "      \"coding\": [\n",
    "        {\n",
    "          \"system\": \"http://terminology.hl7.org/CodeSystem/observation-category\",\n",
    "          \"code\": \"vital-signs\",\n",
    "          \"display\": \"Vital Signs\"\n",
    "        }\n",
    "      ]\n",
    "    }\n",
    "\n",
    "systolic = ObservationComponent(**{\n",
    "      \"code\": {\n",
    "        \"coding\": [\n",
    "          {\n",
    "            \"system\": \"http://loinc.org\",\n",
    "            \"code\": \"8480-6\",\n",
    "            \"display\": \"Systolic blood pressure\"\n",
    "          },\n",
    "          {\n",
    "            \"system\": \"http://snomed.info/sct\",\n",
    "            \"code\": \"271649006\",\n",
    "            \"display\": \"Systolic blood pressure\"\n",
    "          },\n",
    "          {\n",
    "            \"system\": \"http://acme.org/devices/clinical-codes\",\n",
    "            \"code\": \"bp-s\",\n",
    "            \"display\": \"Systolic Blood pressure\"\n",
    "          }\n",
    "        ]\n",
    "      },\n",
    "      \"valueQuantity\": {\n",
    "        \"value\": 107,\n",
    "        \"unit\": \"mmHg\",\n",
    "        \"system\": \"http://unitsofmeasure.org\",\n",
    "        \"code\": \"mm[Hg]\"\n",
    "      },\n",
    "      \"interpretation\": [\n",
    "        {\n",
    "          \"coding\": [\n",
    "            {\n",
    "              \"system\": \"http://terminology.hl7.org/CodeSystem/v3-ObservationInterpretation\",\n",
    "              \"code\": \"N\",\n",
    "              \"display\": \"normal\"\n",
    "            }\n",
    "          ],\n",
    "          \"text\": \"Normal\"\n",
    "        }\n",
    "      ]\n",
    "    }\n",
    ")\n",
    "\n",
    "diastolic = ObservationComponent(**{\n",
    "      \"code\": {\n",
    "        \"coding\": [\n",
    "          {\n",
    "            \"system\": \"http://loinc.org\",\n",
    "            \"code\": \"8462-4\",\n",
    "            \"display\": \"Diastolic blood pressure\"\n",
    "          }\n",
    "        ]\n",
    "      },\n",
    "      \"valueQuantity\": {\n",
    "        \"value\": 60,\n",
    "        \"unit\": \"mmHg\",\n",
    "        \"system\": \"http://unitsofmeasure.org\",\n",
    "        \"code\": \"mm[Hg]\"\n",
    "      },\n",
    "      \"interpretation\": [\n",
    "        {\n",
    "          \"coding\": [\n",
    "            {\n",
    "              \"system\": \"http://terminology.hl7.org/CodeSystem/v3-ObservationInterpretation\",\n",
    "              \"code\": \"L\",\n",
    "              \"display\": \"low\"\n",
    "            }\n",
    "          ],\n",
    "          \"text\": \"Below low normal\"\n",
    "        }\n",
    "      ]\n",
    "    }\n",
    ")"
   ]
  },
  {
   "cell_type": "code",
   "execution_count": null,
   "id": "9512b844-8a16-4a6e-bf2b-f2bb138e1232",
   "metadata": {},
   "outputs": [],
   "source": [
    "blood_data = {\n",
    "    \"active\": True,\n",
    "    \"status\": \"final\",\n",
    "    \"effectiveDateTime\" : \"2012-09-17\",\n",
    "    \"code\": code,\n",
    "    \"category\": [CodeableConcept(**category)],\n",
    "    \"component\": [systolic, diastolic]\n",
    "}\n",
    "\n",
    "blood_pressure = Observation(**blood_data)"
   ]
  },
  {
   "cell_type": "code",
   "execution_count": 55,
   "id": "9aa1a842-3066-4f97-9d57-95eaac5df458",
   "metadata": {},
   "outputs": [],
   "source": [
    "blood_pressure.subject = Reference()"
   ]
  },
  {
   "cell_type": "code",
   "execution_count": 56,
   "id": "b3377088-125f-46be-b6d0-8a883f045d90",
   "metadata": {},
   "outputs": [],
   "source": [
    "blood_pressure.subject.reference = \"Patient/example\""
   ]
  },
  {
   "cell_type": "code",
   "execution_count": 57,
   "id": "3887793f-cdaf-4d63-b1a9-29f889b03fd7",
   "metadata": {},
   "outputs": [
    {
     "data": {
      "text/plain": [
       "Reference(resource_type='Reference', fhir_comments=None, extension=None, id=None, display=None, display__ext=None, identifier=None, reference='Patient/example', reference__ext=None, type=None, type__ext=None)"
      ]
     },
     "execution_count": 57,
     "metadata": {},
     "output_type": "execute_result"
    }
   ],
   "source": [
    "blood_pressure.subject"
   ]
  },
  {
   "cell_type": "code",
   "execution_count": 58,
   "id": "59960190-1b75-43cf-b405-1790bfc00a2f",
   "metadata": {},
   "outputs": [
    {
     "data": {
      "text/plain": [
       "'{\"resourceType\": \"Observation\", \"status\": \"final\", \"category\": [{\"coding\": [{\"system\": \"http://terminology.hl7.org/CodeSystem/observation-category\", \"code\": \"vital-signs\", \"display\": \"Vital Signs\"}]}], \"code\": {\"coding\": [{\"system\": \"http://loinc.org\", \"code\": \"85354-9\", \"display\": \"Blood pressure panel with all children optional\"}], \"text\": \"Blood pressure systolic & diastolic\"}, \"subject\": {\"reference\": \"Patient/example\"}, \"effectiveDateTime\": \"2012-09-17\", \"component\": [{\"code\": {\"coding\": [{\"system\": \"http://loinc.org\", \"code\": \"8480-6\", \"display\": \"Systolic blood pressure\"}, {\"system\": \"http://snomed.info/sct\", \"code\": \"271649006\", \"display\": \"Systolic blood pressure\"}, {\"system\": \"http://acme.org/devices/clinical-codes\", \"code\": \"bp-s\", \"display\": \"Systolic Blood pressure\"}]}, \"valueQuantity\": {\"value\": 107, \"unit\": \"mmHg\", \"system\": \"http://unitsofmeasure.org\", \"code\": \"mm[Hg]\"}, \"interpretation\": [{\"coding\": [{\"system\": \"http://terminology.hl7.org/CodeSystem/v3-ObservationInterpretation\", \"code\": \"N\", \"display\": \"normal\"}], \"text\": \"Normal\"}]}, {\"code\": {\"coding\": [{\"system\": \"http://loinc.org\", \"code\": \"8462-4\", \"display\": \"Diastolic blood pressure\"}]}, \"valueQuantity\": {\"value\": 60, \"unit\": \"mmHg\", \"system\": \"http://unitsofmeasure.org\", \"code\": \"mm[Hg]\"}, \"interpretation\": [{\"coding\": [{\"system\": \"http://terminology.hl7.org/CodeSystem/v3-ObservationInterpretation\", \"code\": \"L\", \"display\": \"low\"}], \"text\": \"Below low normal\"}]}]}'"
      ]
     },
     "execution_count": 58,
     "metadata": {},
     "output_type": "execute_result"
    }
   ],
   "source": [
    "blood_pressure.json()"
   ]
  }
 ],
 "metadata": {
  "kernelspec": {
   "display_name": "Python 3 (ipykernel)",
   "language": "python",
   "name": "python3"
  },
  "language_info": {
   "codemirror_mode": {
    "name": "ipython",
    "version": 3
   },
   "file_extension": ".py",
   "mimetype": "text/x-python",
   "name": "python",
   "nbconvert_exporter": "python",
   "pygments_lexer": "ipython3",
   "version": "3.11.9"
  }
 },
 "nbformat": 4,
 "nbformat_minor": 5
}
