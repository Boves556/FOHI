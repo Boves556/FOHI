{
 "cells": [
  {
   "cell_type": "code",
   "execution_count": 11,
   "id": "571fc4ab-fa20-4bc0-a3ef-095937100e57",
   "metadata": {},
   "outputs": [],
   "source": [
    "import json\n",
    "import os\n",
    "import sys\n",
    "\n",
    "import fhir.resources\n",
    "import pydantic\n",
    "from fhir.resources import construct_fhir_element"
   ]
  },
  {
   "cell_type": "code",
   "execution_count": 3,
   "id": "891fee7e-1a49-49f6-a71a-1800d4f3d0a3",
   "metadata": {},
   "outputs": [
    {
     "data": {
      "text/plain": [
       "['Any',\n",
       " 'Dict',\n",
       " 'FHIRAbstractModel',\n",
       " 'Path',\n",
       " 'Union',\n",
       " '__all__',\n",
       " '__builtins__',\n",
       " '__cached__',\n",
       " '__doc__',\n",
       " '__fhir_version__',\n",
       " '__file__',\n",
       " '__loader__',\n",
       " '__name__',\n",
       " '__package__',\n",
       " '__path__',\n",
       " '__spec__',\n",
       " '__version__',\n",
       " 'construct_fhir_element',\n",
       " 'core',\n",
       " 'fhirtypesvalidators',\n",
       " 'get_fhir_model_class']"
      ]
     },
     "execution_count": 3,
     "metadata": {},
     "output_type": "execute_result"
    }
   ],
   "source": [
    "dir(fhir.resources)"
   ]
  },
  {
   "cell_type": "code",
   "execution_count": 12,
   "id": "f31c388b-cc5a-491a-82e9-0efbf1822ac4",
   "metadata": {},
   "outputs": [
    {
     "ename": "FileNotFoundError",
     "evalue": "[Errno 2] No such file or directory: 'synthea/output/fhir'",
     "output_type": "error",
     "traceback": [
      "\u001b[0;31m---------------------------------------------------------------------------\u001b[0m",
      "\u001b[0;31mFileNotFoundError\u001b[0m                         Traceback (most recent call last)",
      "Cell \u001b[0;32mIn[12], line 1\u001b[0m\n\u001b[0;32m----> 1\u001b[0m file_list \u001b[38;5;241m=\u001b[39m \u001b[43mos\u001b[49m\u001b[38;5;241;43m.\u001b[39;49m\u001b[43mlistdir\u001b[49m\u001b[43m(\u001b[49m\u001b[38;5;124;43m\"\u001b[39;49m\u001b[38;5;124;43msynthea/output/fhir\u001b[39;49m\u001b[38;5;124;43m\"\u001b[39;49m\u001b[43m)\u001b[49m\n\u001b[1;32m      2\u001b[0m bundle \u001b[38;5;241m=\u001b[39m file_list[\u001b[38;5;241m0\u001b[39m]\n\u001b[1;32m      3\u001b[0m bundle\n",
      "\u001b[0;31mFileNotFoundError\u001b[0m: [Errno 2] No such file or directory: 'synthea/output/fhir'"
     ]
    }
   ],
   "source": [
    "file_list = os.listdir(\"synthea/output/fhir\")\n",
    "bundle = file_list[0]\n",
    "bundle"
   ]
  },
  {
   "cell_type": "code",
   "execution_count": null,
   "id": "efb1ac48-0397-40bf-8621-10025b9981f9",
   "metadata": {},
   "outputs": [],
   "source": []
  }
 ],
 "metadata": {
  "kernelspec": {
   "display_name": "Python 3 (ipykernel)",
   "language": "python",
   "name": "python3"
  },
  "language_info": {
   "codemirror_mode": {
    "name": "ipython",
    "version": 3
   },
   "file_extension": ".py",
   "mimetype": "text/x-python",
   "name": "python",
   "nbconvert_exporter": "python",
   "pygments_lexer": "ipython3",
   "version": "3.11.9"
  }
 },
 "nbformat": 4,
 "nbformat_minor": 5
}
